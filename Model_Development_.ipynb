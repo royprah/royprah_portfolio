{
  "nbformat": 4,
  "nbformat_minor": 0,
  "metadata": {
    "colab": {
      "provenance": []
    },
    "kernelspec": {
      "name": "python3",
      "display_name": "Python 3"
    },
    "language_info": {
      "name": "python"
    }
  },
  "cells": [
    {
      "cell_type": "markdown",
      "source": [
        "This analysis uses the Heart Disease Prediction dataset from Kaggle for the model development."
      ],
      "metadata": {
        "id": "w7v1WnLsZt-i"
      }
    },
    {
      "cell_type": "code",
      "execution_count": 1,
      "metadata": {
        "id": "XRr5i2KQRYOU",
        "colab": {
          "base_uri": "https://localhost:8080/",
          "height": 767
        },
        "outputId": "ebadf047-3538-46a1-af83-260703784cc0"
      },
      "outputs": [
        {
          "output_type": "display_data",
          "data": {
            "text/plain": [
              "<IPython.core.display.HTML object>"
            ],
            "text/html": [
              "\n",
              "     <input type=\"file\" id=\"files-a9779a6d-f96d-4e73-9773-50bf83c735e7\" name=\"files[]\" multiple disabled\n",
              "        style=\"border:none\" />\n",
              "     <output id=\"result-a9779a6d-f96d-4e73-9773-50bf83c735e7\">\n",
              "      Upload widget is only available when the cell has been executed in the\n",
              "      current browser session. Please rerun this cell to enable.\n",
              "      </output>\n",
              "      <script>// Copyright 2017 Google LLC\n",
              "//\n",
              "// Licensed under the Apache License, Version 2.0 (the \"License\");\n",
              "// you may not use this file except in compliance with the License.\n",
              "// You may obtain a copy of the License at\n",
              "//\n",
              "//      http://www.apache.org/licenses/LICENSE-2.0\n",
              "//\n",
              "// Unless required by applicable law or agreed to in writing, software\n",
              "// distributed under the License is distributed on an \"AS IS\" BASIS,\n",
              "// WITHOUT WARRANTIES OR CONDITIONS OF ANY KIND, either express or implied.\n",
              "// See the License for the specific language governing permissions and\n",
              "// limitations under the License.\n",
              "\n",
              "/**\n",
              " * @fileoverview Helpers for google.colab Python module.\n",
              " */\n",
              "(function(scope) {\n",
              "function span(text, styleAttributes = {}) {\n",
              "  const element = document.createElement('span');\n",
              "  element.textContent = text;\n",
              "  for (const key of Object.keys(styleAttributes)) {\n",
              "    element.style[key] = styleAttributes[key];\n",
              "  }\n",
              "  return element;\n",
              "}\n",
              "\n",
              "// Max number of bytes which will be uploaded at a time.\n",
              "const MAX_PAYLOAD_SIZE = 100 * 1024;\n",
              "\n",
              "function _uploadFiles(inputId, outputId) {\n",
              "  const steps = uploadFilesStep(inputId, outputId);\n",
              "  const outputElement = document.getElementById(outputId);\n",
              "  // Cache steps on the outputElement to make it available for the next call\n",
              "  // to uploadFilesContinue from Python.\n",
              "  outputElement.steps = steps;\n",
              "\n",
              "  return _uploadFilesContinue(outputId);\n",
              "}\n",
              "\n",
              "// This is roughly an async generator (not supported in the browser yet),\n",
              "// where there are multiple asynchronous steps and the Python side is going\n",
              "// to poll for completion of each step.\n",
              "// This uses a Promise to block the python side on completion of each step,\n",
              "// then passes the result of the previous step as the input to the next step.\n",
              "function _uploadFilesContinue(outputId) {\n",
              "  const outputElement = document.getElementById(outputId);\n",
              "  const steps = outputElement.steps;\n",
              "\n",
              "  const next = steps.next(outputElement.lastPromiseValue);\n",
              "  return Promise.resolve(next.value.promise).then((value) => {\n",
              "    // Cache the last promise value to make it available to the next\n",
              "    // step of the generator.\n",
              "    outputElement.lastPromiseValue = value;\n",
              "    return next.value.response;\n",
              "  });\n",
              "}\n",
              "\n",
              "/**\n",
              " * Generator function which is called between each async step of the upload\n",
              " * process.\n",
              " * @param {string} inputId Element ID of the input file picker element.\n",
              " * @param {string} outputId Element ID of the output display.\n",
              " * @return {!Iterable<!Object>} Iterable of next steps.\n",
              " */\n",
              "function* uploadFilesStep(inputId, outputId) {\n",
              "  const inputElement = document.getElementById(inputId);\n",
              "  inputElement.disabled = false;\n",
              "\n",
              "  const outputElement = document.getElementById(outputId);\n",
              "  outputElement.innerHTML = '';\n",
              "\n",
              "  const pickedPromise = new Promise((resolve) => {\n",
              "    inputElement.addEventListener('change', (e) => {\n",
              "      resolve(e.target.files);\n",
              "    });\n",
              "  });\n",
              "\n",
              "  const cancel = document.createElement('button');\n",
              "  inputElement.parentElement.appendChild(cancel);\n",
              "  cancel.textContent = 'Cancel upload';\n",
              "  const cancelPromise = new Promise((resolve) => {\n",
              "    cancel.onclick = () => {\n",
              "      resolve(null);\n",
              "    };\n",
              "  });\n",
              "\n",
              "  // Wait for the user to pick the files.\n",
              "  const files = yield {\n",
              "    promise: Promise.race([pickedPromise, cancelPromise]),\n",
              "    response: {\n",
              "      action: 'starting',\n",
              "    }\n",
              "  };\n",
              "\n",
              "  cancel.remove();\n",
              "\n",
              "  // Disable the input element since further picks are not allowed.\n",
              "  inputElement.disabled = true;\n",
              "\n",
              "  if (!files) {\n",
              "    return {\n",
              "      response: {\n",
              "        action: 'complete',\n",
              "      }\n",
              "    };\n",
              "  }\n",
              "\n",
              "  for (const file of files) {\n",
              "    const li = document.createElement('li');\n",
              "    li.append(span(file.name, {fontWeight: 'bold'}));\n",
              "    li.append(span(\n",
              "        `(${file.type || 'n/a'}) - ${file.size} bytes, ` +\n",
              "        `last modified: ${\n",
              "            file.lastModifiedDate ? file.lastModifiedDate.toLocaleDateString() :\n",
              "                                    'n/a'} - `));\n",
              "    const percent = span('0% done');\n",
              "    li.appendChild(percent);\n",
              "\n",
              "    outputElement.appendChild(li);\n",
              "\n",
              "    const fileDataPromise = new Promise((resolve) => {\n",
              "      const reader = new FileReader();\n",
              "      reader.onload = (e) => {\n",
              "        resolve(e.target.result);\n",
              "      };\n",
              "      reader.readAsArrayBuffer(file);\n",
              "    });\n",
              "    // Wait for the data to be ready.\n",
              "    let fileData = yield {\n",
              "      promise: fileDataPromise,\n",
              "      response: {\n",
              "        action: 'continue',\n",
              "      }\n",
              "    };\n",
              "\n",
              "    // Use a chunked sending to avoid message size limits. See b/62115660.\n",
              "    let position = 0;\n",
              "    do {\n",
              "      const length = Math.min(fileData.byteLength - position, MAX_PAYLOAD_SIZE);\n",
              "      const chunk = new Uint8Array(fileData, position, length);\n",
              "      position += length;\n",
              "\n",
              "      const base64 = btoa(String.fromCharCode.apply(null, chunk));\n",
              "      yield {\n",
              "        response: {\n",
              "          action: 'append',\n",
              "          file: file.name,\n",
              "          data: base64,\n",
              "        },\n",
              "      };\n",
              "\n",
              "      let percentDone = fileData.byteLength === 0 ?\n",
              "          100 :\n",
              "          Math.round((position / fileData.byteLength) * 100);\n",
              "      percent.textContent = `${percentDone}% done`;\n",
              "\n",
              "    } while (position < fileData.byteLength);\n",
              "  }\n",
              "\n",
              "  // All done.\n",
              "  yield {\n",
              "    response: {\n",
              "      action: 'complete',\n",
              "    }\n",
              "  };\n",
              "}\n",
              "\n",
              "scope.google = scope.google || {};\n",
              "scope.google.colab = scope.google.colab || {};\n",
              "scope.google.colab._files = {\n",
              "  _uploadFiles,\n",
              "  _uploadFilesContinue,\n",
              "};\n",
              "})(self);\n",
              "</script> "
            ]
          },
          "metadata": {}
        },
        {
          "output_type": "stream",
          "name": "stdout",
          "text": [
            "Saving Heart_Disease_Prediction.csv to Heart_Disease_Prediction.csv\n",
            "     Age  Sex  Chest pain type   BP  Cholesterol  FBS over 120  EKG results  \\\n",
            "0     70    1                4  130          322             0            2   \n",
            "1     67    0                3  115          564             0            2   \n",
            "2     57    1                2  124          261             0            0   \n",
            "3     64    1                4  128          263             0            0   \n",
            "4     74    0                2  120          269             0            2   \n",
            "..   ...  ...              ...  ...          ...           ...          ...   \n",
            "265   52    1                3  172          199             1            0   \n",
            "266   44    1                2  120          263             0            0   \n",
            "267   56    0                2  140          294             0            2   \n",
            "268   57    1                4  140          192             0            0   \n",
            "269   67    1                4  160          286             0            2   \n",
            "\n",
            "     Max HR  Exercise angina  ST depression  Slope of ST  \\\n",
            "0       109                0            2.4            2   \n",
            "1       160                0            1.6            2   \n",
            "2       141                0            0.3            1   \n",
            "3       105                1            0.2            2   \n",
            "4       121                1            0.2            1   \n",
            "..      ...              ...            ...          ...   \n",
            "265     162                0            0.5            1   \n",
            "266     173                0            0.0            1   \n",
            "267     153                0            1.3            2   \n",
            "268     148                0            0.4            2   \n",
            "269     108                1            1.5            2   \n",
            "\n",
            "     Number of vessels fluro  Thallium Heart Disease  \n",
            "0                          3         3      Presence  \n",
            "1                          0         7       Absence  \n",
            "2                          0         7      Presence  \n",
            "3                          1         7       Absence  \n",
            "4                          1         3       Absence  \n",
            "..                       ...       ...           ...  \n",
            "265                        0         7       Absence  \n",
            "266                        0         7       Absence  \n",
            "267                        0         3       Absence  \n",
            "268                        0         6       Absence  \n",
            "269                        3         3      Presence  \n",
            "\n",
            "[270 rows x 14 columns]\n"
          ]
        }
      ],
      "source": [
        "from google.colab import files\n",
        "uploaded = files.upload()\n",
        "\n",
        "import pandas as pd\n",
        "import io\n",
        "\n",
        "#Get the file name from the uploaded dictionary\n",
        "filename = list(uploaded.keys())[0]\n",
        "\n",
        "df = pd.read_csv(io.BytesIO(uploaded[filename]))\n",
        "print(df)"
      ]
    },
    {
      "cell_type": "code",
      "source": [
        "print(df.columns)"
      ],
      "metadata": {
        "colab": {
          "base_uri": "https://localhost:8080/"
        },
        "id": "fRvdAlqRXGpO",
        "outputId": "54288dec-b081-4ce7-a1e1-bb3a2a99fcc4"
      },
      "execution_count": 2,
      "outputs": [
        {
          "output_type": "stream",
          "name": "stdout",
          "text": [
            "Index(['Age', 'Sex', 'Chest pain type', 'BP', 'Cholesterol', 'FBS over 120',\n",
            "       'EKG results', 'Max HR', 'Exercise angina', 'ST depression',\n",
            "       'Slope of ST', 'Number of vessels fluro', 'Thallium', 'Heart Disease'],\n",
            "      dtype='object')\n"
          ]
        }
      ]
    },
    {
      "cell_type": "code",
      "source": [
        "import pandas as pd\n",
        "import numpy as np\n",
        "from sklearn.model_selection import train_test_split, cross_val_score\n",
        "from sklearn.preprocessing import StandardScaler\n",
        "from sklearn.ensemble import RandomForestClassifier\n",
        "from sklearn.metrics import accuracy_score, confusion_matrix, classification_report\n",
        "import matplotlib.pyplot as plt\n",
        "import seaborn as sns\n",
        "\n",
        "# Set visual styles\n",
        "sns.set(style=\"whitegrid\")"
      ],
      "metadata": {
        "id": "ZDNblFduTA0a"
      },
      "execution_count": 3,
      "outputs": []
    },
    {
      "cell_type": "code",
      "source": [
        "# Check for missing values\n",
        "\n",
        "print(\"Missing Values:\\n\", df.isnull().sum())\n",
        "\n",
        "# Select only numerical columns for imputation\n",
        "numerical_df = df.select_dtypes(include=['float', 'int'])\n",
        "\n",
        "# Fill missing values in numerical columns with their means\n",
        "numerical_df = numerical_df.fillna(numerical_df.mean())\n",
        "\n",
        "# Replace the original numerical columns with the imputed values\n",
        "df[numerical_df.columns] = numerical_df\n",
        "\n",
        "# Join the imputed numerical columns back with the original DataFrame\n",
        "df = df.drop(numerical_df.columns, axis=1).join(numerical_df)\n",
        "\n",
        "\n",
        "# Check for illogical values\n",
        "illogical_values = df[(df['Age'] < 0)]\n",
        "print(\"Illogical Values:\\n\", illogical_values)"
      ],
      "metadata": {
        "colab": {
          "base_uri": "https://localhost:8080/"
        },
        "id": "fhz5TCp0TP8z",
        "outputId": "2db2c5c0-fdf5-4324-97ea-1105db178293"
      },
      "execution_count": 4,
      "outputs": [
        {
          "output_type": "stream",
          "name": "stdout",
          "text": [
            "Missing Values:\n",
            " Age                        0\n",
            "Sex                        0\n",
            "Chest pain type            0\n",
            "BP                         0\n",
            "Cholesterol                0\n",
            "FBS over 120               0\n",
            "EKG results                0\n",
            "Max HR                     0\n",
            "Exercise angina            0\n",
            "ST depression              0\n",
            "Slope of ST                0\n",
            "Number of vessels fluro    0\n",
            "Thallium                   0\n",
            "Heart Disease              0\n",
            "dtype: int64\n",
            "Illogical Values:\n",
            " Empty DataFrame\n",
            "Columns: [Heart Disease, Age, Sex, Chest pain type, BP, Cholesterol, FBS over 120, EKG results, Max HR, Exercise angina, ST depression, Slope of ST, Number of vessels fluro, Thallium]\n",
            "Index: []\n"
          ]
        }
      ]
    },
    {
      "cell_type": "code",
      "source": [
        "print(df.columns)"
      ],
      "metadata": {
        "colab": {
          "base_uri": "https://localhost:8080/"
        },
        "id": "FVp_WzPlWQNb",
        "outputId": "c2327e7c-8445-49e8-ad8f-820373d54d16"
      },
      "execution_count": 5,
      "outputs": [
        {
          "output_type": "stream",
          "name": "stdout",
          "text": [
            "Index(['Heart Disease', 'Age', 'Sex', 'Chest pain type', 'BP', 'Cholesterol',\n",
            "       'FBS over 120', 'EKG results', 'Max HR', 'Exercise angina',\n",
            "       'ST depression', 'Slope of ST', 'Number of vessels fluro', 'Thallium'],\n",
            "      dtype='object')\n"
          ]
        }
      ]
    },
    {
      "cell_type": "code",
      "source": [
        "#check the data types of all columns\n",
        "print(df.dtypes)"
      ],
      "metadata": {
        "colab": {
          "base_uri": "https://localhost:8080/"
        },
        "id": "SQkQa5N2Xs3Q",
        "outputId": "3ecd64ca-24ee-4833-9975-fcd9af786ebc"
      },
      "execution_count": 25,
      "outputs": [
        {
          "output_type": "stream",
          "name": "stdout",
          "text": [
            "Heart Disease              float64\n",
            "Age                        float64\n",
            "Sex                        float64\n",
            "Chest pain type            float64\n",
            "BP                         float64\n",
            "Cholesterol                float64\n",
            "FBS over 120               float64\n",
            "EKG results                float64\n",
            "Max HR                     float64\n",
            "Exercise angina            float64\n",
            "ST depression              float64\n",
            "Slope of ST                float64\n",
            "Number of vessels fluro    float64\n",
            "Thallium                   float64\n",
            "dtype: object\n"
          ]
        }
      ]
    },
    {
      "cell_type": "markdown",
      "source": [
        "The code below is used to check if there are missing values for categorical columns."
      ],
      "metadata": {
        "id": "Wl-vSBaXbmPe"
      }
    },
    {
      "cell_type": "code",
      "source": [
        "import pandas as pd\n",
        "from sklearn.impute import SimpleImputer, KNNImputer\n",
        "\n",
        "# List of columns that should be treated as categorical\n",
        "categorical_like_cols = ['Sex', 'Chest pain type', 'FBS over 120', 'EKG results', 'Exercise angina', 'Slope of ST', 'Thallium']\n",
        "\n",
        "# Step 1: Convert categorical-like columns to integers or strings (for proper categorical treatment)\n",
        "for col in categorical_like_cols:\n",
        "    df[col] = df[col].astype('category')\n",
        "\n",
        "# Step 2: Imputation for numerical columns (excluding categorical-like columns)\n",
        "numerical_cols = df.select_dtypes(include=['float64']).columns.difference(categorical_like_cols)\n",
        "numerical_imputer = SimpleImputer(strategy='median')  # Change to 'mean' if needed\n",
        "df[numerical_cols] = numerical_imputer.fit_transform(df[numerical_cols])\n",
        "\n",
        "# Step 3: Imputation for categorical-like columns using most frequent value (mode)\n",
        "categorical_imputer = SimpleImputer(strategy='most_frequent')\n",
        "df[categorical_like_cols] = categorical_imputer.fit_transform(df[categorical_like_cols])\n",
        "\n",
        "# KNN Imputation for numerical data\n",
        "knn_imputer = KNNImputer(n_neighbors=5)  # Adjust n_neighbors as needed\n",
        "df[numerical_cols] = knn_imputer.fit_transform(df[numerical_cols])\n",
        "\n",
        "print(\"Missing values have been imputed successfully.\")\n"
      ],
      "metadata": {
        "colab": {
          "base_uri": "https://localhost:8080/"
        },
        "id": "15B2_1IRYFUd",
        "outputId": "92d8e1cf-3748-411a-bc78-9e49d981d763"
      },
      "execution_count": 26,
      "outputs": [
        {
          "output_type": "stream",
          "name": "stdout",
          "text": [
            "Missing values have been imputed successfully.\n"
          ]
        }
      ]
    },
    {
      "cell_type": "markdown",
      "source": [
        "I want to check if there are any remaining missing values in my dataset."
      ],
      "metadata": {
        "id": "WXWBajSQZayH"
      }
    },
    {
      "cell_type": "code",
      "source": [
        "# Check if there are any remaining missing values\n",
        "print(df.isnull().sum())\n"
      ],
      "metadata": {
        "colab": {
          "base_uri": "https://localhost:8080/"
        },
        "id": "-zfdsc9EZFc0",
        "outputId": "30486ab4-a99b-4b5c-8a54-5d10adcfa872"
      },
      "execution_count": 30,
      "outputs": [
        {
          "output_type": "stream",
          "name": "stdout",
          "text": [
            "Heart Disease              0\n",
            "Age                        0\n",
            "Sex                        0\n",
            "Chest pain type            0\n",
            "BP                         0\n",
            "Cholesterol                0\n",
            "FBS over 120               0\n",
            "EKG results                0\n",
            "Max HR                     0\n",
            "Exercise angina            0\n",
            "ST depression              0\n",
            "Slope of ST                0\n",
            "Number of vessels fluro    0\n",
            "Thallium                   0\n",
            "dtype: int64\n"
          ]
        }
      ]
    },
    {
      "cell_type": "markdown",
      "source": [
        "The results above show that all the missing values in my dataset have been successfully imputed, as there are no remaining missing values."
      ],
      "metadata": {
        "id": "bZrR9zG9Z4sd"
      }
    },
    {
      "cell_type": "code",
      "source": [
        "# View the first few rows of the imputed dataset\n",
        "print(df.head())\n"
      ],
      "metadata": {
        "colab": {
          "base_uri": "https://localhost:8080/"
        },
        "id": "0-Xp6X7JZIyS",
        "outputId": "36a935fd-0200-41e0-9bf5-267b7828890d"
      },
      "execution_count": 31,
      "outputs": [
        {
          "output_type": "stream",
          "name": "stdout",
          "text": [
            "   Heart Disease   Age  Sex  Chest pain type     BP  Cholesterol  \\\n",
            "0            1.0  70.0    1                4  130.0        322.0   \n",
            "1            0.0  67.0    0                3  115.0        564.0   \n",
            "2            1.0  57.0    1                2  124.0        261.0   \n",
            "3            0.0  64.0    1                4  128.0        263.0   \n",
            "4            0.0  74.0    0                2  120.0        269.0   \n",
            "\n",
            "   FBS over 120  EKG results  Max HR  Exercise angina  ST depression  \\\n",
            "0             0            2   109.0                0            2.4   \n",
            "1             0            2   160.0                0            1.6   \n",
            "2             0            0   141.0                0            0.3   \n",
            "3             0            0   105.0                1            0.2   \n",
            "4             0            2   121.0                1            0.2   \n",
            "\n",
            "   Slope of ST  Number of vessels fluro  Thallium  \n",
            "0            2                      3.0         3  \n",
            "1            2                      0.0         7  \n",
            "2            1                      0.0         7  \n",
            "3            2                      1.0         7  \n",
            "4            1                      1.0         3  \n"
          ]
        }
      ]
    },
    {
      "cell_type": "markdown",
      "source": [
        "My dataset looks well-structured and the missing values have been successfully imputed."
      ],
      "metadata": {
        "id": "14q6oSAhacPa"
      }
    },
    {
      "cell_type": "markdown",
      "source": [
        "Selecting numerical data for scaling is important in machine learning algorithms because of how the algorithms handle feature magnitudes. Some algorithms rely on the distances between data points or gradient-based optimization techniques. If features have vastly different scales, the algorithm may give more importance to the features with larger values, potentially leading to poor performance. Scaling ensures all features are on a similar scale, allowing the algorithm to treat them equally."
      ],
      "metadata": {
        "id": "FaAYbgrdcQrk"
      }
    },
    {
      "cell_type": "code",
      "source": [
        "# Select numerical features for scaling\n",
        "numerical_features = df.select_dtypes(include=['float', 'int']).columns\n",
        "X = df[numerical_features]  # Features\n",
        "y = df['Heart Disease']\n",
        "\n",
        "\n",
        "# Create a StandardScaler object\n",
        "scaler = StandardScaler()\n",
        "\n",
        "# Fit the scaler to training data and transform it\n",
        "X_scaled = scaler.fit_transform(X)\n",
        "\n",
        "# use X_scaled in train_test_split\n",
        "X_train, X_test, y_train, y_test = train_test_split(X_scaled, y, test_size=0.2, random_state=42)"
      ],
      "metadata": {
        "id": "vl2tfnyJVsds"
      },
      "execution_count": 6,
      "outputs": []
    },
    {
      "cell_type": "markdown",
      "source": [
        "Together, initialization and training are essential for building a machine learning model that can learn from data, optimize its performance and make accurate predictions on new inputs"
      ],
      "metadata": {
        "id": "UHj7WSVMdwGf"
      }
    },
    {
      "cell_type": "code",
      "source": [
        "# Initialize and train the model\n",
        "model = RandomForestClassifier(random_state=42)\n",
        "model.fit(X_train, y_train)\n",
        "\n",
        "# Make predictions\n",
        "y_pred = model.predict(X_test)\n"
      ],
      "metadata": {
        "id": "RLnL1nhhfWCr"
      },
      "execution_count": 7,
      "outputs": []
    },
    {
      "cell_type": "code",
      "source": [
        "# Calculate accuracy\n",
        "accuracy = accuracy_score(y_test, y_pred)\n",
        "print(f'Accuracy: {accuracy:.2f}')\n",
        "\n",
        "# Display confusion matrix\n",
        "conf_matrix = confusion_matrix(y_test, y_pred)\n",
        "sns.heatmap(conf_matrix, annot=True, fmt='d', cmap='Blues')\n",
        "plt.title('Confusion Matrix')\n",
        "plt.xlabel('Predicted')\n",
        "plt.ylabel('Actual')\n",
        "plt.show()\n",
        "\n",
        "# Generate classification report\n",
        "print(classification_report(y_test, y_pred))\n"
      ],
      "metadata": {
        "colab": {
          "base_uri": "https://localhost:8080/",
          "height": 654
        },
        "id": "sv2GDzz0fa8n",
        "outputId": "4518d1f9-f040-4acd-82fe-6132ec696b7d"
      },
      "execution_count": 8,
      "outputs": [
        {
          "output_type": "stream",
          "name": "stdout",
          "text": [
            "Accuracy: 0.80\n"
          ]
        },
        {
          "output_type": "display_data",
          "data": {
            "text/plain": [
              "<Figure size 640x480 with 2 Axes>"
            ],
            "image/png": "[encoded data removed]"
          },
          "metadata": {}
        },
        {
          "output_type": "stream",
          "name": "stdout",
          "text": [
            "              precision    recall  f1-score   support\n",
            "\n",
            "     Absence       0.81      0.88      0.84        33\n",
            "    Presence       0.78      0.67      0.72        21\n",
            "\n",
            "    accuracy                           0.80        54\n",
            "   macro avg       0.79      0.77      0.78        54\n",
            "weighted avg       0.79      0.80      0.79        54\n",
            "\n"
          ]
        }
      ]
    },
    {
      "cell_type": "markdown",
      "source": [
        "The Accuracy of the Random Forest model is 80% which means that 80% of the predictions made by the model are correct. It performed better at predicting Absence cases, with precision of 0.81, recall of 0.588, and an F1-score of 0.84, compared to Presence cases, which have a lower precision og 0.78, recal of 0.67, and an F1-score of 0.72. The macro average F1-score of 0.78 shows that the model's performance is relatively ballanced across both classes,, but the Presence class has a lower recall, meaning the model is missing 33% of the actual presence cases. To improve performance, especially for presence detection, I performed Hyperparameter tuning below."
      ],
      "metadata": {
        "id": "MGKQFv8GeoO6"
      }
    },
    {
      "cell_type": "code",
      "source": [
        "import pandas as pd\n",
        "import numpy as np\n",
        "from sklearn.model_selection import train_test_split, GridSearchCV\n",
        "from sklearn.ensemble import RandomForestClassifier\n",
        "from sklearn.metrics import accuracy_score, classification_report, confusion_matrix\n",
        "import seaborn as sns\n",
        "import matplotlib.pyplot as plt\n",
        "\n",
        "\n",
        "# Separate features (X) and target variable (y)\n",
        "X = df.drop('Heart Disease', axis=1)\n",
        "y = df['Heart Disease']\n",
        "\n",
        "# Check for missing values and handle them in the pandas DataFrame\n",
        "print(\"Missing values in the data:\\n\", X.isnull().sum())\n",
        "\n",
        "# Fill missing values if any\n",
        "X.fillna(X.mean(), inplace=True)\n",
        "\n",
        "# Split the data into training and testing sets (before scaling)\n",
        "X_train, X_test, y_train, y_test = train_test_split(X, y, test_size=0.2, random_state=42)\n",
        "\n",
        "# Scale features if necessary\n",
        "from sklearn.preprocessing import StandardScaler\n",
        "scaler = StandardScaler()\n",
        "X_train_scaled = scaler.fit_transform(X_train)\n",
        "X_test_scaled = scaler.transform(X_test)\n",
        "\n",
        "# Define the model (RandomForestClassifier in this case)\n",
        "rf_model = RandomForestClassifier(random_state=42)\n",
        "\n",
        "# Define a smaller, more stable parameter grid for hyperparameter tuning\n",
        "param_grid = {\n",
        "    'n_estimators': [100, 200],\n",
        "    'max_depth': [None, 10, 20],\n",
        "    'min_samples_split': [2, 5],\n",
        "    'min_samples_leaf': [1, 2],\n",
        "    'bootstrap': [True]\n",
        "}\n",
        "\n",
        "# Initialize the GridSearchCV with the model and use accuracy as the scoring metric to avoid nan issues\n",
        "grid_search = GridSearchCV(estimator=rf_model, param_grid=param_grid, cv=5, scoring='accuracy', n_jobs=-1, verbose=2)\n",
        "\n",
        "# Fit the grid search to the scaled training data\n",
        "grid_search.fit(X_train_scaled, y_train)\n",
        "\n",
        "# Get the best parameters and best model\n",
        "best_params = grid_search.best_params_\n",
        "print(f\"Best Parameters: {best_params}\")\n",
        "\n",
        "# Evaluate the best model on the scaled test data\n",
        "best_grid_model = grid_search.best_estimator_\n",
        "y_pred_grid = best_grid_model.predict(X_test_scaled)\n",
        "\n",
        "# Calculate accuracy on the test set\n",
        "accuracy_grid = accuracy_score(y_test, y_pred_grid)\n",
        "print(f\"Accuracy after hyperparameter tuning: {accuracy_grid:.4f}\")\n",
        "\n",
        "# Print the classification report\n",
        "print(classification_report(y_test, y_pred_grid))\n",
        "\n",
        "# Confusion Matrix\n",
        "sns.heatmap(confusion_matrix(y_test, y_pred_grid), annot=True, fmt='d', cmap='Blues')\n",
        "plt.title(f'Confusion Matrix after Hyperparameter Tuning')\n",
        "plt.xlabel('Predicted')\n",
        "plt.ylabel('Actual')\n",
        "plt.show()\n"
      ],
      "metadata": {
        "colab": {
          "base_uri": "https://localhost:8080/",
          "height": 949
        },
        "id": "NBvS3-kCpqRC",
        "outputId": "2b96388c-e523-465a-a83c-4fd2d87d2be8"
      },
      "execution_count": 9,
      "outputs": [
        {
          "output_type": "stream",
          "name": "stdout",
          "text": [
            "Missing values in the data:\n",
            " Age                        0\n",
            "Sex                        0\n",
            "Chest pain type            0\n",
            "BP                         0\n",
            "Cholesterol                0\n",
            "FBS over 120               0\n",
            "EKG results                0\n",
            "Max HR                     0\n",
            "Exercise angina            0\n",
            "ST depression              0\n",
            "Slope of ST                0\n",
            "Number of vessels fluro    0\n",
            "Thallium                   0\n",
            "dtype: int64\n",
            "Fitting 5 folds for each of 24 candidates, totalling 120 fits\n",
            "Best Parameters: {'bootstrap': True, 'max_depth': 10, 'min_samples_leaf': 1, 'min_samples_split': 5, 'n_estimators': 100}\n",
            "Accuracy after hyperparameter tuning: 0.8519\n",
            "              precision    recall  f1-score   support\n",
            "\n",
            "     Absence       0.84      0.94      0.89        33\n",
            "    Presence       0.88      0.71      0.79        21\n",
            "\n",
            "    accuracy                           0.85        54\n",
            "   macro avg       0.86      0.83      0.84        54\n",
            "weighted avg       0.86      0.85      0.85        54\n",
            "\n"
          ]
        },
        {
          "output_type": "display_data",
          "data": {
            "text/plain": [
              "<Figure size 640x480 with 2 Axes>"
            ],
            "image/png": "[encoded data removed]"
          },
          "metadata": {}
        }
      ]
    },
    {
      "cell_type": "markdown",
      "source": [
        "Hyperparameter tuning led to a significant improvement in overall model performance, particulary for detecting the presence of the condition. Precision for the presence class increased notably from 0.78 to 0.88, while recall improved from 0.67 to 0.71, demonstrating that hyperparameter tuning was effective in enhancing the model's ability to correctly identify the condition's presence without sacrificing accuracy or performance in the absence class."
      ],
      "metadata": {
        "id": "TPLeSko3r0_O"
      }
    },
    {
      "cell_type": "code",
      "source": [
        "# Perform 5-fold cross-validation\n",
        "cv_scores = cross_val_score(model, X_scaled, y, cv=5)\n",
        "print(f'Cross-Validation Accuracy: {cv_scores.mean():.2f}')\n"
      ],
      "metadata": {
        "colab": {
          "base_uri": "https://localhost:8080/"
        },
        "id": "rGkiEXU0fgn7",
        "outputId": "c8f33fd9-37b1-44b6-cb7c-50f0d14b89bf"
      },
      "execution_count": 10,
      "outputs": [
        {
          "output_type": "stream",
          "name": "stdout",
          "text": [
            "Cross-Validation Accuracy: 0.81\n"
          ]
        }
      ]
    },
    {
      "cell_type": "markdown",
      "source": [
        "The model achieved an average cross-validation accuracy of 81% across 5 folds, indicating that it generalizes well to different subsets of the data. this result suggests that the model is not overfitting and is likely to perform consistently with unseen data. Although slightly lower that the tuned model's test accuracy of 85.19%, the cross-validation accuracy provides reassurance that the model's performance is stable and reliable accross different splits of the dataset."
      ],
      "metadata": {
        "id": "5KPBh_Ultfo-"
      }
    },
    {
      "cell_type": "code",
      "source": [
        "\n",
        "# Feature importance from RandomForest\n",
        "feature_importances = pd.Series(model.feature_importances_, index=X.columns)\n",
        "feature_importances.sort_values(ascending=False).plot(kind='bar', figsize=(10,6))\n",
        "plt.title('Feature Importance')\n",
        "plt.show()\n",
        "\n",
        "# If a feature is determined irrelevant, drop it and retrain the model:\n",
        "# X = X.drop('irrelevant_feature', axis=1)\n"
      ],
      "metadata": {
        "colab": {
          "base_uri": "https://localhost:8080/",
          "height": 716
        },
        "id": "apmQsc0lfqyK",
        "outputId": "1b8fc6f4-0d84-4513-a20d-aed019c3eead"
      },
      "execution_count": 11,
      "outputs": [
        {
          "output_type": "display_data",
          "data": {
            "text/plain": [
              "<Figure size 1000x600 with 1 Axes>"
            ],
            "image/png": "[encoded data removed]"
          },
          "metadata": {}
        }
      ]
    },
    {
      "cell_type": "markdown",
      "source": [
        "The bar chart illustrates the feature importance in the Random Forest model, showing which variables have the most influence on the model's predictions. The top contributing features are ST depression, Chest pain type, Thallium, and Max HR, with each contributing between 12% and 14%. On the other hand, features like Exercise angina, Sex, EKG results, and FBS over 120 have lowe importance, contributing less to the predictions."
      ],
      "metadata": {
        "id": "T1UIfuM4vJBD"
      }
    },
    {
      "cell_type": "code",
      "source": [
        "\n",
        "# Visualize model performance with a bar chart\n",
        "models = ['Random Forest']\n",
        "accuracies = [accuracy]\n",
        "\n",
        "plt.bar(models, accuracies)\n",
        "plt.title('Model Performance')\n",
        "plt.ylabel('Accuracy')\n",
        "plt.show()\n"
      ],
      "metadata": {
        "colab": {
          "base_uri": "https://localhost:8080/",
          "height": 457
        },
        "id": "5Wk0wJurfynH",
        "outputId": "ecf0758e-b678-486a-8d14-1b4b11a91610"
      },
      "execution_count": 12,
      "outputs": [
        {
          "output_type": "display_data",
          "data": {
            "text/plain": [
              "<Figure size 640x480 with 1 Axes>"
            ],
            "image/png": "[encoded data removed]"
          },
          "metadata": {}
        }
      ]
    },
    {
      "cell_type": "code",
      "source": [
        "# Print feature importances to interpret model results\n",
        "important_features = feature_importances[feature_importances > 0.1]\n",
        "print(\"Key Features influencing the model:\\n\", important_features)\n",
        "\n",
        "# Summarize the model's performance metrics\n",
        "print(f'Model Accuracy: {accuracy:.2f}')\n",
        "print(f'Cross-Validation Score: {cv_scores.mean():.2f}')\n"
      ],
      "metadata": {
        "colab": {
          "base_uri": "https://localhost:8080/"
        },
        "id": "_lvQ8UTbf2tg",
        "outputId": "19b5f71d-12ca-46da-f24c-fe1f164ce3e8"
      },
      "execution_count": 13,
      "outputs": [
        {
          "output_type": "stream",
          "name": "stdout",
          "text": [
            "Key Features influencing the model:\n",
            " Chest pain type    0.133470\n",
            "Max HR             0.105259\n",
            "ST depression      0.138002\n",
            "Thallium           0.114730\n",
            "dtype: float64\n",
            "Model Accuracy: 0.80\n",
            "Cross-Validation Score: 0.81\n"
          ]
        }
      ]
    },
    {
      "cell_type": "markdown",
      "source": [
        "The key features driving the Random Forest model's prediction are  ST depression, Chest pain type, Thallium, and Max HR, with contributions ranging from 10.5% to 13.8%. These variables are the most influential in the model's decision-making process. The model achieved a solid accuracy of 80%, with a consistent cross-validation score of 81%, suggesting that the model performs reliably across different data splits and generalizes well to unseen data."
      ],
      "metadata": {
        "id": "WuX8y9BKwPbp"
      }
    },
    {
      "cell_type": "code",
      "source": [],
      "metadata": {
        "id": "4AsHktT8RWo8"
      },
      "execution_count": null,
      "outputs": []
    },
    {
      "cell_type": "code",
      "source": [
        "from sklearn.model_selection import train_test_split, cross_val_score\n",
        "import xgboost as xgb\n",
        "from sklearn.metrics import accuracy_score\n",
        "from sklearn.preprocessing import LabelEncoder\n",
        "\n",
        "#Initialize LabelEncoder\n",
        "label_encoder = LabelEncoder()\n",
        "\n",
        "#Encode the target variable\n",
        "df['Heart Disease'] = label_encoder.fit_transform(df['Heart Disease'])\n",
        "\n",
        "\n",
        "# Split data into training and testing sets\n",
        "X = df.drop('Heart Disease', axis=1)\n",
        "y = df['Heart Disease']\n",
        "\n",
        "X_train, X_test, y_train, y_test = train_test_split(X, y, test_size=0.2, random_state=42)\n",
        "\n",
        "# Initialize the XGBoost model\n",
        "xgb_model = xgb.XGBClassifier()\n",
        "\n",
        "# Train the model\n",
        "xgb_model.fit(X_train, y_train)\n",
        "\n",
        "# Predict on the test set\n",
        "y_pred_xgb = xgb_model.predict(X_test)\n",
        "\n",
        "# Evaluate the model using accuracy\n",
        "accuracy_xgb = accuracy_score(y_test, y_pred_xgb)\n",
        "print(f\"Gradient Boosting (XGBoost) Accuracy: {accuracy_xgb:.4f}\")\n",
        "\n",
        "# Cross-Validation for accuracy\n",
        "cv_score_xgb = cross_val_score(xgb_model, X, y, cv=5, scoring='accuracy').mean()\n",
        "print(f\"Cross-Validated Accuracy (XGBoost): {cv_score_xgb:.4f}\")"
      ],
      "metadata": {
        "id": "Lx7JkN-XP6Qr",
        "colab": {
          "base_uri": "https://localhost:8080/"
        },
        "outputId": "74ba5889-e5f3-435b-8e62-a6363381046e"
      },
      "execution_count": 17,
      "outputs": [
        {
          "output_type": "stream",
          "name": "stdout",
          "text": [
            "Gradient Boosting (XGBoost) Accuracy: 0.8148\n",
            "Cross-Validated Accuracy (XGBoost): 0.7815\n"
          ]
        }
      ]
    },
    {
      "cell_type": "markdown",
      "source": [
        "The XGBoost model achieved an accuracy of 81.48% on the test dataset, meaning it correctly predicted approximately 81.5% of the instances. This performance indicates that the model is capturing important patterns in the data, but depending on the context, there could still be room for improvement. The cross-validated accuracy, at 78.15%, provides a more reliable measure of how the model performs on unseen data by evaluating it on multiple subsets of the dataset. The slight drop from the test accuracy suggests minor overfitting, where the model performs better on the training data than on other samples, but this difference of about 3% is not extreme."
      ],
      "metadata": {
        "id": "UE_hUHEFSOLU"
      }
    },
    {
      "cell_type": "code",
      "source": [
        "from sklearn.neighbors import KNeighborsClassifier\n",
        "from sklearn.model_selection import train_test_split, cross_val_score\n",
        "from sklearn.metrics import accuracy_score\n",
        "\n",
        "# Split data into training and testing sets\n",
        "X = df.drop('Heart Disease', axis=1)\n",
        "y = df['Heart Disease']\n",
        "\n",
        "X_train, X_test, y_train, y_test = train_test_split(X, y, test_size=0.2, random_state=42)\n",
        "\n",
        "# Initialize the KNN model\n",
        "knn_model = KNeighborsClassifier(n_neighbors=5)\n",
        "\n",
        "# Train the model\n",
        "knn_model.fit(X_train, y_train)\n",
        "\n",
        "# Predict on the test set\n",
        "y_pred_knn = knn_model.predict(X_test)\n",
        "\n",
        "# Evaluate the model using accuracy\n",
        "accuracy_knn = accuracy_score(y_test, y_pred_knn)\n",
        "print(f\"K-Nearest Neighbors Accuracy: {accuracy_knn:.4f}\")\n",
        "\n",
        "# Cross-Validation for accuracy\n",
        "cv_score_knn = cross_val_score(knn_model, X, y, cv=5, scoring='accuracy').mean()\n",
        "print(f\"Cross-Validated Accuracy (KNN): {cv_score_knn:.4f}\")"
      ],
      "metadata": {
        "colab": {
          "base_uri": "https://localhost:8080/"
        },
        "id": "M7nNGlxFTJF7",
        "outputId": "a3f3cc66-bfc1-4299-d639-bdf63bd8278d"
      },
      "execution_count": 20,
      "outputs": [
        {
          "output_type": "stream",
          "name": "stdout",
          "text": [
            "K-Nearest Neighbors Accuracy: 0.6481\n",
            "Cross-Validated Accuracy (KNN): 0.6815\n"
          ]
        }
      ]
    },
    {
      "cell_type": "markdown",
      "source": [
        "The K-Nearest Neighbors (KNN) model achieved an accuracy of 64.81% on the test dataset, indicating that it correctly classified approximately 64.8% of the instances. The cross-validated accuracy was slightly higher at 68.15%, suggesting that the model performs more consistently across different subsets of the data. However, the overall accuracy of KNN is moderate, indicating that the model might not be capturing complex patterns in the data."
      ],
      "metadata": {
        "id": "3ce6GrEvTm4J"
      }
    },
    {
      "cell_type": "code",
      "source": [
        "from sklearn.linear_model import LogisticRegression\n",
        "from sklearn.svm import SVC\n",
        "from sklearn.ensemble import RandomForestClassifier\n",
        "from sklearn.neighbors import KNeighborsClassifier\n",
        "import xgboost as xgb\n",
        "from sklearn.model_selection import cross_val_score\n",
        "from sklearn.preprocessing import StandardScaler\n",
        "from sklearn.metrics import accuracy_score, classification_report, confusion_matrix\n",
        "\n",
        "# Initialize the models\n",
        "logreg_model = LogisticRegression(random_state=42)\n",
        "svm_model = SVC(random_state=42)\n",
        "rf_model = RandomForestClassifier(random_state=42)\n",
        "knn_model = KNeighborsClassifier()\n",
        "xgb_model = xgb.XGBClassifier(random_state=42)\n",
        "\n",
        "# List of models\n",
        "models = {\n",
        "    'Logistic Regression': logreg_model,\n",
        "    'Support Vector Machine': svm_model,\n",
        "    'Random Forest': rf_model,\n",
        "    'K-Nearest Neighbors': knn_model,\n",
        "    'XGBoost': xgb_model\n",
        "}\n",
        "\n",
        "\n",
        "scaler = StandardScaler()\n",
        "X_scaled = scaler.fit_transform(X)  # Assuming X is your feature matrix\n",
        "\n",
        "# Evaluate each model using cross-validation\n",
        "model_performance = {}\n",
        "\n",
        "for name, model in models.items():\n",
        "    # Perform 5-fold cross-validation and compute the mean accuracy\n",
        "    cv_scores = cross_val_score(model, X_scaled, y, cv=5)\n",
        "    model_performance[name] = cv_scores.mean()\n",
        "    print(f\"{name} Cross-Validation Accuracy: {cv_scores.mean():.4f}\")\n",
        "\n",
        "# Choose the best model based on cross-validation performance\n",
        "best_model_name = max(model_performance, key=model_performance.get)\n",
        "best_model = models[best_model_name]\n",
        "\n",
        "print(f\"\\nBest Model: {best_model_name} with Accuracy: {model_performance[best_model_name]:.4f}\")\n",
        "\n"
      ],
      "metadata": {
        "colab": {
          "base_uri": "https://localhost:8080/"
        },
        "id": "25JIkETlgTTL",
        "outputId": "b4327481-d8ef-48de-accf-12625dae4b3a"
      },
      "execution_count": 21,
      "outputs": [
        {
          "output_type": "stream",
          "name": "stdout",
          "text": [
            "Logistic Regression Cross-Validation Accuracy: 0.8407\n",
            "Support Vector Machine Cross-Validation Accuracy: 0.8296\n",
            "Random Forest Cross-Validation Accuracy: 0.8148\n",
            "K-Nearest Neighbors Cross-Validation Accuracy: 0.8333\n",
            "XGBoost Cross-Validation Accuracy: 0.7815\n",
            "\n",
            "Best Model: Logistic Regression with Accuracy: 0.8407\n"
          ]
        }
      ]
    },
    {
      "cell_type": "markdown",
      "source": [
        "In comparing multiple models, Logistic Regression demonstrated the highest cross-validation accuracy at 84.07%, outperforming Support Vector Machine (82.96%),Random Forest (81.48%), KNN(83.33%) and XGBoost(78.15%). Given these results, Logistic Regression is the best-performing model in this scenario, achieving the highest accuracy and demonstrating strong generalization across different data splits. Therefore, Logistic Regression is the best model for deployment."
      ],
      "metadata": {
        "id": "kXTYUdWfxICs"
      }
    },
    {
      "cell_type": "code",
      "source": [
        "# Train the best model on the training data\n",
        "best_model.fit(X_train, y_train)\n",
        "\n",
        "# Predict on the test data\n",
        "y_pred = best_model.predict(X_test)\n",
        "\n",
        "# Calculate accuracy on the test set\n",
        "test_accuracy = accuracy_score(y_test, y_pred)\n",
        "print(f\"\\nTest Set Accuracy of the Best Model ({best_model_name}): {test_accuracy:.4f}\")\n",
        "\n",
        "# Display confusion matrix and classification report\n",
        "conf_matrix = confusion_matrix(y_test, y_pred)\n",
        "sns.heatmap(conf_matrix, annot=True, fmt='d', cmap='Blues')\n",
        "plt.title(f'{best_model_name} Confusion Matrix')\n",
        "plt.xlabel('Predicted')\n",
        "plt.ylabel('Actual')\n",
        "plt.show()\n",
        "\n",
        "print(classification_report(y_test, y_pred))\n"
      ],
      "metadata": {
        "colab": {
          "base_uri": "https://localhost:8080/",
          "height": 810
        },
        "id": "Uu6tYUGXgYjv",
        "outputId": "3d8f6239-5aa7-406c-e962-ac92fe9968e0"
      },
      "execution_count": 15,
      "outputs": [
        {
          "output_type": "stream",
          "name": "stderr",
          "text": [
            "/usr/local/lib/python3.10/dist-packages/sklearn/linear_model/_logistic.py:469: ConvergenceWarning: lbfgs failed to converge (status=1):\n",
            "STOP: TOTAL NO. of ITERATIONS REACHED LIMIT.\n",
            "\n",
            "Increase the number of iterations (max_iter) or scale the data as shown in:\n",
            "    https://scikit-learn.org/stable/modules/preprocessing.html\n",
            "Please also refer to the documentation for alternative solver options:\n",
            "    https://scikit-learn.org/stable/modules/linear_model.html#logistic-regression\n",
            "  n_iter_i = _check_optimize_result(\n"
          ]
        },
        {
          "output_type": "stream",
          "name": "stdout",
          "text": [
            "\n",
            "Test Set Accuracy of the Best Model (Logistic Regression): 0.9074\n"
          ]
        },
        {
          "output_type": "display_data",
          "data": {
            "text/plain": [
              "<Figure size 640x480 with 2 Axes>"
            ],
            "image/png": "[encoded data removed]"
          },
          "metadata": {}
        },
        {
          "output_type": "stream",
          "name": "stdout",
          "text": [
            "              precision    recall  f1-score   support\n",
            "\n",
            "     Absence       0.89      0.97      0.93        33\n",
            "    Presence       0.94      0.81      0.87        21\n",
            "\n",
            "    accuracy                           0.91        54\n",
            "   macro avg       0.92      0.89      0.90        54\n",
            "weighted avg       0.91      0.91      0.91        54\n",
            "\n"
          ]
        }
      ]
    },
    {
      "cell_type": "markdown",
      "source": [
        "The confusion matrix for the Logistic Regression model shows strong performance, with 32 true negatives and 17 true positives, indicating the model is highly accurate in correctly predicting both the absence and presence of the condition. It only made 1 false positive and 4 false negative predictions, meaning the model occasionally missed some presence cases but rarely misclassified absence cases. Overall, the model demonstrates excellent predictive power, aligning with the high accuracy and other evaluation metrics previously reported."
      ],
      "metadata": {
        "id": "JZMa_vZWZqwK"
      }
    }
  ]
}